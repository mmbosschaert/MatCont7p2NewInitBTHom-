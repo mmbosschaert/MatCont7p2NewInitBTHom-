{
 "cells": [
  {
   "cell_type": "markdown",
   "metadata": {},
   "source": [
    "# Generate system files for predator-prey system with constant rate harvesting\n",
    "\n",
    "In this script the __system files__ for the predator-prey system given by\n",
    "\n",
    "$$\n",
    "\\begin{cases}\n",
    "\\begin{aligned}\n",
    "\\dot x &= rx\\left(1-\\frac x k\\right) - y \\frac x {e+x}, \\\\\n",
    "\\dot y &= y\\left(-d+\\frac x {e+x}\\right) - h, \\\\\n",
    "\\end{aligned}\n",
    "\\end{cases}\n",
    "$$\n",
    "\n",
    "are generated. These are used in the [predator prey](./PredatorPrey.ipynb) demo."
   ]
  },
  {
   "cell_type": "markdown",
   "metadata": {},
   "source": [
    "## Add MatCont path and load sym package if GNU Octave is used"
   ]
  },
  {
   "cell_type": "code",
   "execution_count": null,
   "metadata": {},
   "outputs": [],
   "source": [
    "matcontpath = '../';\n",
    "addpath(matcontpath);\n",
    "addpath([matcontpath, '/Utilities']);\n",
    "if isOctave\n",
    "  pkg load symbolic % for GNU Octave\n",
    "end"
   ]
  },
  {
   "cell_type": "markdown",
   "metadata": {},
   "source": [
    "## Set the system name"
   ]
  },
  {
   "cell_type": "code",
   "execution_count": null,
   "metadata": {},
   "outputs": [],
   "source": [
    "system_name = 'PredatorPrey';"
   ]
  },
  {
   "cell_type": "markdown",
   "metadata": {},
   "source": [
    "## Create coordinates and parameter names as strings "
   ]
  },
  {
   "cell_type": "code",
   "execution_count": null,
   "metadata": {},
   "outputs": [],
   "source": [
    "coordsnames = {'x', 'y'};\n",
    "parnames = {'d', 'h'};"
   ]
  },
  {
   "cell_type": "markdown",
   "metadata": {},
   "source": [
    "## Create symbols for coordinates and parameters\n",
    "The array `par` is the array of symbols in the same order as parnames.\n",
    "Due to the following two lines we may, for example, use either `alpha` or\n",
    "`par(1)`. There should no changes be need of this code."
   ]
  },
  {
   "cell_type": "code",
   "execution_count": null,
   "metadata": {},
   "outputs": [],
   "source": [
    "syms(parnames{:});       % create symbol for alpha and delta\n",
    "par=cell2sym(parnames);  % now alpha1 is par(1) etc\n",
    "syms(coordsnames{:});    % create symbol for alpha and delta\n",
    "coords=cell2sym(coordsnames); % create 1 x n vector for coordinates"
   ]
  },
  {
   "cell_type": "markdown",
   "metadata": {},
   "source": [
    "## Define fixed parameters"
   ]
  },
  {
   "cell_type": "code",
   "execution_count": null,
   "metadata": {},
   "outputs": [],
   "source": [
    "r = 1;\n",
    "e = 1;\n",
    "k = 2;"
   ]
  },
  {
   "cell_type": "markdown",
   "metadata": {},
   "source": [
    "## Define the system"
   ]
  },
  {
   "cell_type": "code",
   "execution_count": null,
   "metadata": {},
   "outputs": [],
   "source": [
    "dx_dt = r*x*(1-x/k) - y*x/(e+x);\n",
    "dy_dt = y*(-d+x/(e+x)) - h;\n",
    "system = [dx_dt; dy_dt];"
   ]
  },
  {
   "cell_type": "markdown",
   "metadata": {},
   "source": [
    "In general there are no modifications needed after this line.\n",
    "\n",
    "## Differentiate and generate code (directional derivatives)\n",
    "\n",
    "Exporting it to `<system_name>.m`. This method uses directional derivatives.\n",
    "Then using polarization identities derivatives can be calculated in arbitrary\n",
    "direction."
   ]
  },
  {
   "cell_type": "code",
   "execution_count": null,
   "metadata": {},
   "outputs": [],
   "source": [
    "suc = generate_directional_derivatives(...\n",
    "  system,...   % n x 1 array of derivative symbolic expressions\n",
    "  coords,... % 1 x n array of symbols for states\n",
    "  par,...      % 1 x np array of symbols used for parameters\n",
    "  system_name,... % argument specifying the system name\n",
    "  [matcontpath, 'Systems/']... % directory to save to file\n",
    ");"
   ]
  },
  {
   "cell_type": "markdown",
   "metadata": {},
   "source": [
    "## Higher-order parameter-dependent multi-linear form.\n",
    "\n",
    "Exporting it to `<system_name>_multilinearforms.m`. These multi-linear forms are\n",
    "currently only used in the computation of the parameter-dependent center\n",
    "manifold for the codimension two Bogdanov-Takens bifurcation."
   ]
  },
  {
   "cell_type": "code",
   "execution_count": null,
   "metadata": {},
   "outputs": [],
   "source": [
    "order = 3;\n",
    "suc = generate_multilinear_forms(system_name, system, coords, par, order, ...\n",
    "        [matcontpath, 'Systems/']);"
   ]
  }
 ],
 "metadata": {
  "jupytext": {
   "formats": "ipynb,md"
  },
  "kernelspec": {
   "display_name": "Matlab",
   "language": "matlab",
   "name": "matlab"
  }
 },
 "nbformat": 4,
 "nbformat_minor": 4
}
