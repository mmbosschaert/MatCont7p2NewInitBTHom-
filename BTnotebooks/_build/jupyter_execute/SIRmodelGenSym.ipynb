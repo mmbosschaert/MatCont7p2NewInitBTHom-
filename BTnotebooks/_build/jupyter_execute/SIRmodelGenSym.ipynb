{
 "cells": [
  {
   "cell_type": "markdown",
   "metadata": {},
   "source": [
    "# Generate system files for SIR model with the standard incidence rate\n",
    "\n",
    "This Jupyter Notebook generates the __system file__ for the following SIR model\n",
    "{cite}`Chunhua@2014` with the standard incidence rate\n",
    "\n",
    "$$\n",
    "\\begin{cases}\n",
    "\\begin{aligned}\n",
    "    \\frac{d S}{d t} &=A-d S-\\frac{\\beta S I}{S+I+R}, \\\\ \n",
    "    \\frac{d I}{d t} &=-(d+\\nu) I-\\mu(b,I) I+\\frac{\\beta S I}{S+I+R}, \\\\ \n",
    "    \\frac{d R}{d t} &=\\mu(b,I) I-d R,\n",
    "\\end{aligned}\n",
    "\\end{cases}\n",
    "$$\n",
    "\n",
    "where $A>0$ is the recruitment rate of susceptible population;\n",
    "$d>0$ is the per capita natural death rate of the population; $\\nu>0$ is\n",
    "the per capita disease-induced death rate; $\\mu>0$ is the per capita\n",
    "recovery rate of infectious individual. The funtion $\\mu$ is set to\n",
    "\n",
    "$$\n",
    "\\mu(b,I) = \\mu_0 + (\\mu_1 - \\mu_0) \\frac{b}{I+b}.\n",
    "$$\n",
    "\n",
    "These are used in the [SIR model](SIRmodel.ipynb) demo.\n",
    "\n",
    "## Add MatCont path and load sym package if GNU Octave is used\n"
   ]
  },
  {
   "cell_type": "code",
   "execution_count": null,
   "metadata": {},
   "outputs": [],
   "source": [
    "matcontpath = '../';\n",
    "addpath(matcontpath);\n",
    "addpath([matcontpath, '/Utilities']);\n",
    "if isOctave\n",
    "  pkg load symbolic % for GNU Octave\n",
    "end"
   ]
  },
  {
   "cell_type": "markdown",
   "metadata": {},
   "source": [
    "## Set the system name"
   ]
  },
  {
   "cell_type": "code",
   "execution_count": null,
   "metadata": {},
   "outputs": [],
   "source": [
    "system_name = 'SIRmodel';"
   ]
  },
  {
   "cell_type": "markdown",
   "metadata": {},
   "source": [
    "## Create coordinates and parameter names as strings "
   ]
  },
  {
   "cell_type": "code",
   "execution_count": null,
   "metadata": {},
   "outputs": [],
   "source": [
    "coordsnames = {'S', 'I', 'R'};\n",
    "parnames = {'mu1', 'b'};"
   ]
  },
  {
   "cell_type": "markdown",
   "metadata": {},
   "source": [
    "## Create symbols for coordinates and parameters\n",
    "The array `par` is the array of symbols in the same order as parnames.\n",
    "Due to the following two lines we may, for example, use either `mu1` or\n",
    "`par(1)`. There should no changes be need of this code."
   ]
  },
  {
   "cell_type": "code",
   "execution_count": null,
   "metadata": {},
   "outputs": [],
   "source": [
    "syms(parnames{:});       % create symbol for alpha and delta\n",
    "par=cell2sym(parnames);  % now alpha1 is par(1) etc\n",
    "syms(coordsnames{:});    % create symbol for alpha and delta\n",
    "coords=cell2sym(coordsnames); % create 1 x n vector for coordinates"
   ]
  },
  {
   "cell_type": "markdown",
   "metadata": {},
   "source": [
    "## Define fixed parameters"
   ]
  },
  {
   "cell_type": "code",
   "execution_count": null,
   "metadata": {},
   "outputs": [],
   "source": [
    "A = 20;\n",
    "mu0 = 10;\n",
    "d = 1/10;\n",
    "nu = 1;\n",
    "beta = 11.5;"
   ]
  },
  {
   "cell_type": "markdown",
   "metadata": {},
   "source": [
    "## Define the system"
   ]
  },
  {
   "cell_type": "code",
   "execution_count": null,
   "metadata": {},
   "outputs": [],
   "source": [
    "mu = @(b,I) mu0 + (mu1-mu0)*b/(I+b);\n",
    "dS_dt = A-d*S-beta*S*I/(S+I+R);\n",
    "dI_dt = -(d+nu)*I-mu(b,I)*I+beta*S*I/(S+I+R);\n",
    "dR_dt = mu(b,I)*I-d*R;\n",
    "system = [dS_dt; dI_dt; dR_dt];"
   ]
  },
  {
   "cell_type": "markdown",
   "metadata": {},
   "source": [
    "In general there are no modifications needed after this line.\n",
    "\n",
    "## Differentiate and generate code (directional derivatives)\n",
    "\n",
    "Exporting it to `<system_name>.m`. This method uses directional derivatives.\n",
    "Then using polarization identities derivatives can be calculated in arbitrary\n",
    "direction."
   ]
  },
  {
   "cell_type": "code",
   "execution_count": null,
   "metadata": {},
   "outputs": [],
   "source": [
    "suc = generate_directional_derivatives(...\n",
    "  system,...   % n x 1 array of derivative symbolic expressions\n",
    "  coords,... % 1 x n array of symbols for states\n",
    "  par,...      % 1 x np array of symbols used for parameters\n",
    "  system_name,... % argument specifying the system name\n",
    "  [matcontpath, 'Systems/']... % directory to save to file\n",
    ");"
   ]
  },
  {
   "cell_type": "markdown",
   "metadata": {},
   "source": [
    "## Higher-order parameter-dependent multi-linear form.\n",
    "\n",
    "Exporting it to `<system_name>_multilinearforms.m`. These multi-linear forms are\n",
    "currently only used in the computation of the parameter-dependent center\n",
    "manifold for the codimension two Bogdanov-Takens bifurcation."
   ]
  },
  {
   "cell_type": "code",
   "execution_count": null,
   "metadata": {},
   "outputs": [],
   "source": [
    "order = 3;\n",
    "suc = generate_multilinear_forms(system_name, system, coords, par, order, ...\n",
    "        [matcontpath, 'Systems/']);"
   ]
  }
 ],
 "metadata": {
  "jupytext": {
   "formats": "ipynb,md"
  },
  "kernelspec": {
   "display_name": "Matlab",
   "language": "matlab",
   "name": "matlab"
  }
 },
 "nbformat": 4,
 "nbformat_minor": 4
}