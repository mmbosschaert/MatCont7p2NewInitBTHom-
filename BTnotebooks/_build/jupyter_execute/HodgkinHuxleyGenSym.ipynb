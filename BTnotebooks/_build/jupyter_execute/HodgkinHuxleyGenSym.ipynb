{
 "cells": [
  {
   "cell_type": "markdown",
   "metadata": {},
   "source": [
    "# Generate system files for Hodgkin-Huxley equations\n",
    "\n",
    "The Hodgkin-Huxley equations {cite}`HodgkinHuxley@1952` relate the\n",
    "difference in electric potential across the cell membrane $(V)$ and gating\n",
    "variables $(m, n$ and $h$ ) for ion channels to the stimulus intensity $(I)$\n",
    "and temperature $(T)$, as follows:\n",
    " \n",
    "$$\n",
    "\\begin{cases}\n",
    "\\dot{V} ={}& -G(V, m, n, h)+I \\\\\n",
    "\\dot{m} ={}& \\Phi(T)\\left[(1-m) \\alpha_{m}(V)-m \\beta_{m}(V)\\right] \\\\\n",
    "\\dot{n} ={}& \\Phi(T)\\left[(1-n) \\alpha_{n}(V)-n \\beta_{n}(V)\\right] \\\\\n",
    "\\dot{h} ={}& \\Phi(T)\\left[(1-h) \\alpha_{h}(V)-h \\beta_{h}(V)\\right]\n",
    "\\end{cases}\n",
    "$$\n",
    "\n",
    "where $\\dot{x}$ stands for $\\mathrm{d} x / \\mathrm{d} t$ and $\\Phi$ is\n",
    "given by $\\Phi(T)=3^{(\\mathrm{T}-6.3) / 10}$. The other functions involved\n",
    "are:\n",
    "\n",
    "$$\n",
    "G(V, m, n, h)=\\bar{g}_{\\mathrm{Na}} m^{3}\n",
    "h\\left(V-\\bar{V}_{\\mathrm{Na}}\\right)+\\bar{g}_{\\mathrm{K}}\n",
    "n^{4}\\left(V-\\bar{V}_{\\mathrm{K}}\\right)+\\bar{g}_{\\mathrm{L}}\\left(V-\\bar{V}_{\\mathrm{L}}\\right)\n",
    "$$\n",
    "\n",
    "and the equations modeling the variation of membrane permeability are:\n",
    "\n",
    "$$\n",
    "\\begin{array}{ll}\n",
    "\\alpha_{m}(V)=\\Psi\\left(\\frac{V+25}{10}\\right) & \\beta_{m}(V)=4 e^{V / 18}\n",
    "\\\\\n",
    "\\alpha_{n}(V)=0.1 \\Psi\\left(\\frac{V+10}{10}\\right) & \\beta_{n}(V)=0.125\n",
    "e^{V / 80} \\\\\n",
    "\\alpha_{h}(V)=0.07 e^{V / 20} & \\beta_{h}(V)=\\left(1+e^{(V+30) /\n",
    "10}\\right)^{-1}\n",
    "\\end{array}\n",
    "$$\n",
    "\n",
    "with\n",
    "\n",
    "$$\n",
    "\\Psi(x)=\\left\\{\\begin{array}{ll}\n",
    "x /\\left(e^{x}-1\\right) & \\text { if } x \\neq 0 \\\\\n",
    "1 & \\text { if } x=0\n",
    "\\end{array}\\right.\n",
    "$$\n",
    "\n",
    "The parameters $\\bar{g}_{\\text {ion }}$ and $\\bar{V}_{\\text {ion}}$\n",
    "representing maximum conductance and equilibrium potential for the ion were\n",
    "obtained from experimental data by Hodgkin and Huxley, with the values given\n",
    "below:\n",
    "\n",
    "$$\n",
    "\\begin{array}{lll}\n",
    "\\bar{g}_{\\mathrm{Na}}=120 \\mathrm{mS} / \\mathrm{cm}^{2}, &\n",
    "\\bar{g}_{\\mathrm{K}}=36 \\mathrm{mS} / \\mathrm{cm}^{2}, &\n",
    "\\bar{g}_{\\mathrm{L}}=0.3 \\mathrm{mS} / \\mathrm{cm}^{2} \\\\\n",
    "\\bar{V}_{\\mathrm{Na}}=-115 \\mathrm{mV}, & \\bar{V}_{\\mathrm{K}}=12\n",
    "\\mathrm{mV}, & \\bar{V}_{\\mathrm{L}}=10.599 \\mathrm{mV}\n",
    "\\end{array}\n",
    "$$\n",
    "\n",
    "The values of $\\bar{V}_{\\mathrm{Na}}$ and $\\bar{V}_{\\mathrm{K}}$ can be\n",
    "controlled experimentally {cite}`HodgkinHuxley@1952a`.\n",
    "The temperature is set to $T=6.3^{\\circ}$.\n",
    "\n",
    "These are used in the [HodgkinHuxley](HodgkinHuxley.ipynb).\n",
    "\n",
    "## Add MatCont path and load sym package if GNU Octave is used"
   ]
  },
  {
   "cell_type": "code",
   "execution_count": 1,
   "metadata": {
    "lines_to_next_cell": 0
   },
   "outputs": [],
   "source": [
    "matcontpath = '../';\n",
    "addpath(matcontpath);\n",
    "addpath([matcontpath, '/Utilities']);\n",
    "if isOctave\n",
    "  pkg load symbolic % for GNU Octave\n",
    "end"
   ]
  },
  {
   "cell_type": "markdown",
   "metadata": {},
   "source": [
    "## Set the system name"
   ]
  },
  {
   "cell_type": "code",
   "execution_count": 2,
   "metadata": {},
   "outputs": [],
   "source": [
    "system_name = 'HodgkinHuxley';"
   ]
  },
  {
   "cell_type": "markdown",
   "metadata": {},
   "source": [
    "## Create coordinates and parameter names as strings "
   ]
  },
  {
   "cell_type": "code",
   "execution_count": 3,
   "metadata": {},
   "outputs": [],
   "source": [
    "coordsnames = {'V', 'm', 'n', 'h'};\n",
    "parnames={'VbarK', 'I'};"
   ]
  },
  {
   "cell_type": "markdown",
   "metadata": {},
   "source": [
    "## Create symbols for parameters\n",
    "The array `|par|` is the array of symbols in the same order as parnames.\n",
    "Due to the following two lines we may, for example, use either `mu_1` or\n",
    "`par(1)`\n",
    "\n",
    "## Create symbols for coordinates and parameters\n",
    "The array `par` is the array of symbols in the same order as parnames.\n",
    "Due to the following two lines we may, for example, use either `k` or\n",
    "`par(1)`. There should no changes be need of this code."
   ]
  },
  {
   "cell_type": "code",
   "execution_count": 4,
   "metadata": {},
   "outputs": [],
   "source": [
    "syms(parnames{:});       % create symbol for alpha and delta\n",
    "par=cell2sym(parnames);  % now alpha1 is par(1) etc\n",
    "syms(coordsnames{:});    % create symbol for alpha and delta\n",
    "coords=cell2sym(coordsnames); % create 1 x n vector for coordinates"
   ]
  },
  {
   "cell_type": "markdown",
   "metadata": {},
   "source": [
    "## Define fixed parameters"
   ]
  },
  {
   "cell_type": "code",
   "execution_count": 5,
   "metadata": {},
   "outputs": [],
   "source": [
    "gbarNa = 120;\n",
    "gbarK  = 36;\n",
    "gbarL  = 0.3;\n",
    "VbarNa = -115;\n",
    "VbarL  = 10.599;\n",
    "T = 6.3;"
   ]
  },
  {
   "cell_type": "markdown",
   "metadata": {},
   "source": [
    "## Define the system"
   ]
  },
  {
   "cell_type": "code",
   "execution_count": 6,
   "metadata": {},
   "outputs": [],
   "source": [
    "Psi = @(x) x/(exp(x)-1);\n",
    "alpha_m = @(V) Psi( (V+25)/10 );\n",
    "alpha_n = @(V) 0.1*Psi( (V+10)/10);\n",
    "alpha_h = @(V) 0.07*exp(V/20);\n",
    "\n",
    "beta_m = @(V) 4*exp(V/18);\n",
    "beta_n = @(V) 0.125*exp(V/80);\n",
    "beta_h = @(V) 1/(1+exp((V+30)/10));\n",
    "\n",
    "G = @(V, m, n, h) gbarNa*m^3*h*(V-VbarNa) + gbarK*n^4*(V-VbarK) + gbarL*(V-VbarL);\n",
    "Phi = @(T) 3^(T-6.3)/10;\n",
    "dV_dt = -G(V, m, n, h)+I;\n",
    "dm_dt = Phi(T)*((1-m)*alpha_m(V)-m*beta_m(V));\n",
    "dn_dt = Phi(T)*((1-n)*alpha_n(V)-n*beta_n(V));\n",
    "dh_dt = Phi(T)*((1-h)*alpha_h(V)-h*beta_h(V));\n",
    "system = [dV_dt; dm_dt; dn_dt; dh_dt];"
   ]
  },
  {
   "cell_type": "markdown",
   "metadata": {},
   "source": [
    "In general there are no modifications needed after this line.\n",
    "\n",
    "## Differentiate and generate code (directional derivatives)\n",
    "\n",
    "Exporting it to `<system_name>.m`. This method uses directional derivatives.\n",
    "Then using polarization identities derivatives can be calculated in arbitrary\n",
    "direction."
   ]
  },
  {
   "cell_type": "code",
   "execution_count": 7,
   "metadata": {},
   "outputs": [],
   "source": [
    "suc = generate_directional_derivatives(...\n",
    "  system,...   % n x 1 array of derivative symbolic expressions\n",
    "  coords,... % 1 x n array of symbols for states\n",
    "  par,...      % 1 x np array of symbols used for parameters\n",
    "  system_name,... % argument specifying the system name\n",
    "  [matcontpath, 'Systems/']... % directory to save to file\n",
    ");"
   ]
  },
  {
   "cell_type": "markdown",
   "metadata": {},
   "source": [
    "## Higher-order parameter-dependent multi-linear form.\n",
    "\n",
    "Exporting it to `<system_name>_multilinearforms.m`. These multi-linear forms are\n",
    "currently only used in the computation of the parameter-dependent center\n",
    "manifold for the codimension two Bogdanov-Takens bifurcation."
   ]
  },
  {
   "cell_type": "code",
   "execution_count": 8,
   "metadata": {},
   "outputs": [],
   "source": [
    "order = 3;\n",
    "suc = generate_multilinear_forms(system_name, system, coords, par, order, ...\n",
    "        [matcontpath, 'Systems/']);"
   ]
  }
 ],
 "metadata": {
  "jupytext": {
   "cell_metadata_filter": "-all",
   "formats": "ipynb,md"
  },
  "kernelspec": {
   "display_name": "Matlab",
   "language": "matlab",
   "name": "matlab"
  },
  "language_info": {
   "codemirror_mode": "octave",
   "file_extension": ".m",
   "help_links": [
    {
     "text": "MetaKernel Magics",
     "url": "https://metakernel.readthedocs.io/en/latest/source/README.html"
    }
   ],
   "mimetype": "text/x-octave",
   "name": "matlab",
   "version": "0.16.11"
  }
 },
 "nbformat": 4,
 "nbformat_minor": 4
}