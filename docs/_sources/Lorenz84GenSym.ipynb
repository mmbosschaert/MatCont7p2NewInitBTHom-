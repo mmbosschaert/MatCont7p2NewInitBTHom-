{
 "cells": [
  {
   "cell_type": "markdown",
   "source": [
    "# Generate system files for the extended Lorenz-84 model\n",
    "\n",
    "This Jupyter Notebook generates the __system files__ for the extended Lorenz-84 model\n",
    "given by\n",
    "\n",
    "$$\n",
    "\\begin{cases}\n",
    "\\begin{aligned}\n",
    "\\dot{X} &=-Y^{2}-Z^{2}-\\alpha X+\\alpha F-\\xi U^{2} \\\\\n",
    "\\dot{Y} &=X Y-\\beta X Z-Y+G \\\\\n",
    "\\dot{Z} &=\\beta X Y+X Z-Z \\\\\n",
    "\\dot{U} &=-\\delta U+\\xi U X+S\n",
    "\\end{aligned}\n",
    "\\end{cases}\n",
    "$$\n",
    "\n",
    "In this system, $X$ models the intensity of a baroclinic wave, $Y$ and $Z$ the\n",
    "sin and cos coefficients of the wave respectively, the variable $U$ is added to\n",
    "study the influence of external parameters such as temperature. We fix the\n",
    "parameters as follows $\\alpha=0.25, \\beta=1, G=0.25, \\delta=1.04$ and\n",
    "$\\xi=0.987$. The continuation parameters are $F$ and $S$."
   ],
   "metadata": {}
  },
  {
   "cell_type": "markdown",
   "source": [
    "These are used in the [extended Lorenz-84 model](./extendedLorenz84model.ipynb) demo.\n",
    "\n",
    "## Add MatCont path and load sym package if GNU Octave is used\n"
   ],
   "metadata": {}
  },
  {
   "cell_type": "code",
   "execution_count": 1,
   "source": [
    "matcontpath = '../';\n",
    "addpath(matcontpath);\n",
    "addpath([matcontpath, 'Utilities'])\n",
    "if isOctave\n",
    "  pkg load symbolic % for GNU Octave\n",
    "end"
   ],
   "outputs": [],
   "metadata": {}
  },
  {
   "cell_type": "markdown",
   "source": [
    "## Set the system name"
   ],
   "metadata": {}
  },
  {
   "cell_type": "code",
   "execution_count": 2,
   "source": [
    "system_name = 'extendedLorenz84';"
   ],
   "outputs": [],
   "metadata": {}
  },
  {
   "cell_type": "markdown",
   "source": [
    "## Create coordinates and parameter names as strings "
   ],
   "metadata": {}
  },
  {
   "cell_type": "code",
   "execution_count": 3,
   "source": [
    "coordsnames = {'X', 'Y', 'Z', 'U'};\n",
    "parnames = {'F', 'S'};"
   ],
   "outputs": [],
   "metadata": {}
  },
  {
   "cell_type": "markdown",
   "source": [
    "## Create symbols for coordinates and parameters\n",
    "The array `par` is the array of symbols in the same order as parnames.\n",
    "Due to the following two lines we may, for example, use either `alpha` or\n",
    "`par(1)`. There should no changes be need of this code."
   ],
   "metadata": {}
  },
  {
   "cell_type": "code",
   "execution_count": 4,
   "source": [
    "syms(parnames{:});       % create symbol for alpha and delta\n",
    "par=cell2sym(parnames);  % now alpha1 is par(1) etc\n",
    "syms(coordsnames{:});    % create symbol for alpha and delta\n",
    "coords=cell2sym(coordsnames); % create 1 x n vector for coordinates"
   ],
   "outputs": [],
   "metadata": {}
  },
  {
   "cell_type": "markdown",
   "source": [
    "## Define fixed parameters"
   ],
   "metadata": {}
  },
  {
   "cell_type": "code",
   "execution_count": 5,
   "source": [
    "alpha = 0.25;\n",
    "beta = 1;\n",
    "G = 0.25;\n",
    "delta = 1.04;\n",
    "xi = 0.987;"
   ],
   "outputs": [],
   "metadata": {}
  },
  {
   "cell_type": "markdown",
   "source": [
    "## Define the system"
   ],
   "metadata": {}
  },
  {
   "cell_type": "code",
   "execution_count": 6,
   "source": [
    "dX_dt = -Y^2-Z^2-alpha*X+alpha*F-xi*U^2;\n",
    "dY_dt = X*Y-beta*X*Z-Y+G;\n",
    "dZ_dt = beta*X*Y+X*Z-Z;\n",
    "dU_dt = -delta*U+xi*U*X+S;\n",
    "system = [dX_dt; dY_dt; dZ_dt; dU_dt];"
   ],
   "outputs": [],
   "metadata": {}
  },
  {
   "cell_type": "markdown",
   "source": [
    "In general there are no modifications needed after this line.\n",
    "\n",
    "## Differentiate and generate code (directional derivatives)\n",
    "\n",
    "Exporting it to `<system_name>.m`. This method uses directional derivatives.\n",
    "Then using polarization identities derivatives can be calculated in arbitrary\n",
    "direction."
   ],
   "metadata": {}
  },
  {
   "cell_type": "code",
   "execution_count": 7,
   "source": [
    "suc = generate_directional_derivatives(...\n",
    "  system,...   % n x 1 array of derivative symbolic expressions\n",
    "  coords,... % 1 x n array of symbols for states\n",
    "  par,...      % 1 x np array of symbols used for parameters\n",
    "  system_name,... % argument specifying the system name\n",
    "  [matcontpath, 'Systems/']... % directory to save to file\n",
    ");"
   ],
   "outputs": [],
   "metadata": {}
  },
  {
   "cell_type": "markdown",
   "source": [
    "## Higher-order parameter-dependent multi-linear form.\n",
    "\n",
    "Exporting it to `<system_name>_multilinearforms.m`. These multi-linear forms are\n",
    "currently only used in the computation of the parameter-dependent center\n",
    "manifold for the codimension two Bogdanov-Takens bifurcation."
   ],
   "metadata": {}
  },
  {
   "cell_type": "code",
   "execution_count": 8,
   "source": [
    "order = 3;\n",
    "suc = generate_multilinear_forms(system_name, system, coords, par, order, ...\n",
    "        [matcontpath, 'Systems/']);"
   ],
   "outputs": [],
   "metadata": {}
  }
 ],
 "metadata": {
  "jupytext": {
   "formats": "ipynb,md"
  },
  "kernelspec": {
   "display_name": "Matlab",
   "language": "matlab",
   "name": "matlab"
  },
  "language_info": {
   "codemirror_mode": "octave",
   "file_extension": ".m",
   "help_links": [
    {
     "text": "MetaKernel Magics",
     "url": "https://metakernel.readthedocs.io/en/latest/source/README.html"
    }
   ],
   "mimetype": "text/x-octave",
   "name": "matlab",
   "version": "0.16.11"
  }
 },
 "nbformat": 4,
 "nbformat_minor": 4
}