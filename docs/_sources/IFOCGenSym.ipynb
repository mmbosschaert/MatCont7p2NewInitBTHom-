{
 "cells": [
  {
   "cell_type": "markdown",
   "metadata": {},
   "source": [
    "# Generate system files for the indirect field oriented control system\n",
    "\n",
    "This Jupyter Notebook generates the __system files__ for the indirect field oriented control system given by\n",
    "\n",
    "$$\n",
    "\\begin{cases}\n",
    "\\begin{aligned}\n",
    "\\dot x_1 &= -c_1 x_1 + c_2 x_4 - \\frac{k c_1}{u_2^0} x_2 x_4, \\\\\n",
    "\\dot x_2 &= -c_1 x_2 + c_2 u_2^0 + \\frac{k c_1}{u_2^0} x_1 x_4, \\\\\n",
    "\\dot x_3 &= -c_3 x_3 - c_4 c_5 (x_2x_4 - u_2^0 x_1) + (c_4 T_m + c_3 w_{ref}), \\\\\n",
    "\\dot x_4 &= -(k_i-k_p)x_3 - k_p c_4 c_5 ( x_2 x_4 - u_2^0 x_1) + k_p (c_4 T_m + c_3 w_{ref}). \\\\\n",
    "\\end{aligned}\n",
    "\\end{cases}\n",
    "$$\n",
    "\n",
    "Here $x_1 , x_2 , x_3$ and $x_4$ are the state variables, where $x_1$ and $x_2$\n",
    "represent, respectively, direct and quadrature components of the rotor ﬂux;\n",
    "$x_3$ is the rotor speed error; and $x_4$ denotes the quadrature axis component\n",
    "of the stator current, respectively.  We also deﬁne the following constants and\n",
    "parameters: $u_2^0$ is a constant reference for the rotor flux magnitude; $c_1$\n",
    "to $c_5$ are machine parameters; $k_p$ and $k_i$ are the proportional (P) and\n",
    "the integral (I) control gains, respectively; $w_{ref}$ is the speed reference;\n",
    "$T_m$ the load torque; $k$ the measure of rotor time constant mismatches."
   ]
  },
  {
   "cell_type": "markdown",
   "metadata": {},
   "source": [
    "These are used in the [IFOC](IFOC.ipynb) demo."
   ]
  },
  {
   "cell_type": "markdown",
   "metadata": {},
   "source": [
    "## Add MatCont path and load sym package if GNU Octave is used"
   ]
  },
  {
   "cell_type": "code",
   "execution_count": 1,
   "metadata": {},
   "outputs": [],
   "source": [
    "matcontpath = '../';\n",
    "addpath(matcontpath);\n",
    "addpath([matcontpath, '/Utilities']);\n",
    "if isOctave\n",
    "  pkg load symbolic % for GNU Octave\n",
    "end"
   ]
  },
  {
   "cell_type": "markdown",
   "metadata": {},
   "source": [
    "## Set the system name"
   ]
  },
  {
   "cell_type": "code",
   "execution_count": 2,
   "metadata": {},
   "outputs": [],
   "source": [
    "system_name = 'IFOC';"
   ]
  },
  {
   "cell_type": "markdown",
   "metadata": {},
   "source": [
    "## Create coordinates and parameter names as strings "
   ]
  },
  {
   "cell_type": "code",
   "execution_count": 3,
   "metadata": {},
   "outputs": [],
   "source": [
    "coordsnames = {'x1', 'x2', 'x3', 'x4'};\n",
    "parnames={'k', 'Tm'};"
   ]
  },
  {
   "cell_type": "markdown",
   "metadata": {},
   "source": [
    "## Create symbols for coordinates and parameters\n",
    "The array `par` is the array of symbols in the same order as parnames.\n",
    "Due to the following two lines we may, for example, use either `k` or\n",
    "`par(1)`. There should no changes be need of this code."
   ]
  },
  {
   "cell_type": "code",
   "execution_count": 4,
   "metadata": {},
   "outputs": [],
   "source": [
    "syms(parnames{:});       % create symbol for alpha and delta\n",
    "par=cell2sym(parnames);  % now alpha1 is par(1) etc\n",
    "syms(coordsnames{:});    % create symbol for alpha and delta\n",
    "coords=cell2sym(coordsnames); % create 1 x n vector for coordinates"
   ]
  },
  {
   "cell_type": "markdown",
   "metadata": {},
   "source": [
    "## Define fixed parameters"
   ]
  },
  {
   "cell_type": "code",
   "execution_count": 5,
   "metadata": {},
   "outputs": [],
   "source": [
    "c1 = 4.4868;\n",
    "c2 = 0.3567;\n",
    "c3 = 0;\n",
    "c4 = 9.743;\n",
    "c5 = 1.911;\n",
    "u20 = 11.3;\n",
    "kp = 4.5;\n",
    "ki = 500;\n",
    "wref = 0;"
   ]
  },
  {
   "cell_type": "markdown",
   "metadata": {},
   "source": [
    "## Define the system"
   ]
  },
  {
   "cell_type": "code",
   "execution_count": 6,
   "metadata": {},
   "outputs": [],
   "source": [
    "dx1_dt = -c1*x1 + c2*x4 - k*c1/u20*x2*x4;\n",
    "dx2_dt = -c1*x2 + c2*u20 + k*c1/u20*x1*x4;\n",
    "dx3_dt = -c3*x3 - c4*c5*(x2*x4 - u20*x1) + (c4*Tm + c3*wref);\n",
    "dx4_dt = -(ki-kp*c3)*x3 - kp*c4*c5*(x2*x4 - u20*x1) + kp*(c4*Tm + c3*wref);\n",
    "system = [dx1_dt; dx2_dt; dx3_dt; dx4_dt];"
   ]
  },
  {
   "cell_type": "markdown",
   "metadata": {},
   "source": [
    "In general there are no modifications needed after this line.\n",
    "\n",
    "## Differentiate and generate code (directional derivatives)\n",
    "\n",
    "Exporting it to `<system_name>.m`. This method uses directional derivatives.\n",
    "Then using polarization identities derivatives can be calculated in arbitrary\n",
    "direction."
   ]
  },
  {
   "cell_type": "code",
   "execution_count": 7,
   "metadata": {},
   "outputs": [],
   "source": [
    "suc = generate_directional_derivatives(...\n",
    "  system,...   % n x 1 array of derivative symbolic expressions\n",
    "  coords,... % 1 x n array of symbols for states\n",
    "  par,...      % 1 x np array of symbols used for parameters\n",
    "  system_name,... % argument specifying the system name\n",
    "  [matcontpath, 'Systems/']... % directory to save to file\n",
    ");"
   ]
  },
  {
   "cell_type": "markdown",
   "metadata": {},
   "source": [
    "## Higher-order parameter-dependent multi-linear form.\n",
    "\n",
    "Exporting it to `<system_name>_multilinearforms.m`. These multi-linear forms are\n",
    "currently only used in the computation of the parameter-dependent center\n",
    "manifold for the codimension two Bogdanov-Takens bifurcation."
   ]
  },
  {
   "cell_type": "code",
   "execution_count": 8,
   "metadata": {},
   "outputs": [],
   "source": [
    "order = 3;\n",
    "suc = generate_multilinear_forms(system_name, system, coords, par, order, ...\n",
    "        [matcontpath, 'Systems/']);"
   ]
  }
 ],
 "metadata": {
  "jupytext": {
   "formats": "ipynb,md"
  },
  "kernelspec": {
   "display_name": "Matlab",
   "language": "matlab",
   "name": "matlab"
  },
  "language_info": {
   "codemirror_mode": "octave",
   "file_extension": ".m",
   "help_links": [
    {
     "text": "MetaKernel Magics",
     "url": "https://metakernel.readthedocs.io/en/latest/source/README.html"
    }
   ],
   "mimetype": "text/x-octave",
   "name": "matlab",
   "version": "0.16.11"
  }
 },
 "nbformat": 4,
 "nbformat_minor": 4
}
